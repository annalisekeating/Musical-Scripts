{
 "cells": [
  {
   "cell_type": "markdown",
   "metadata": {},
   "source": [
    "# 1 D Automata are _Cool_"
   ]
  },
  {
   "cell_type": "code",
   "execution_count": 102,
   "metadata": {},
   "outputs": [],
   "source": [
    "# madatory imports\n",
    "import numpy as n\n",
    "import matplotlib.pyplot as plt\n",
    "%matplotlib inline"
   ]
  },
  {
   "cell_type": "markdown",
   "metadata": {},
   "source": [
    "### Defining variables:\n",
    "\n",
    "    Block = the first state\n",
    "    c = count = to access all the elements of the block, except the first and last"
   ]
  },
  {
   "cell_type": "code",
   "execution_count": 93,
   "metadata": {},
   "outputs": [],
   "source": [
    "block = n.array([0.0,0.0,0.0,0.0,0.0,1.0,1.0,0.0,0.0,0.0,0.0,0.0])\n",
    "c = n.arange(1, len(block)-1, 1)"
   ]
  },
  {
   "cell_type": "markdown",
   "metadata": {},
   "source": [
    "### The Rule (EX-OR Gate):\n",
    "##### 1) First and last elements remain the same\n",
    "##### 2) If neighboring elements are the same, element = 0, else 1."
   ]
  },
  {
   "cell_type": "markdown",
   "metadata": {},
   "source": [
    "Coding these rules"
   ]
  },
  {
   "cell_type": "code",
   "execution_count": 97,
   "metadata": {},
   "outputs": [
    {
     "name": "stdout",
     "output_type": "stream",
     "text": [
      "0.0 0.0 same\n",
      "0.0 0.0 same\n",
      "0.0 0.0 same\n",
      "1.0 0.0 different\n",
      "1.0 0.0 different\n",
      "0.0 1.0 different\n",
      "0.0 1.0 different\n",
      "0.0 0.0 same\n",
      "0.0 0.0 same\n",
      "0.0 0.0 same\n",
      "First state: [0. 0. 0. 0. 0. 1. 1. 0. 0. 0. 0. 0.]\n",
      "Next state: [0. 0. 0. 0. 1. 1. 1. 1. 0. 0. 0. 0.]\n"
     ]
    }
   ],
   "source": [
    "first = block[0]\n",
    "last = block[len(block)-1]\n",
    "next_state = n.zeros(n.shape(block))\n",
    "\n",
    "next_state[0] = first\n",
    "for i in c:\n",
    "    left = block[i-1]\n",
    "    right = block[i+1]\n",
    "    if right == left:\n",
    "        # print(right, left, 'same')\n",
    "        next_state[i] = 0\n",
    "    else:\n",
    "        # print(right, left, 'different')\n",
    "        next_state[i] = 1\n",
    "        \n",
    "next_state[len(block)-1] = last\n",
    "\n",
    "print('First state:',block)\n",
    "print('Next state:',next_state)"
   ]
  },
  {
   "cell_type": "markdown",
   "metadata": {},
   "source": [
    "## Moving on to multiple states"
   ]
  },
  {
   "cell_type": "code",
   "execution_count": 98,
   "metadata": {
    "scrolled": true
   },
   "outputs": [
    {
     "name": "stdout",
     "output_type": "stream",
     "text": [
      "[0. 0. 0. 0. 1. 1. 1. 1. 0. 0. 0. 0.]\n",
      "[0. 0. 0. 1. 1. 0. 0. 1. 1. 0. 0. 0.]\n",
      "[0. 0. 1. 1. 1. 1. 1. 1. 1. 1. 0. 0.]\n",
      "[0. 1. 1. 0. 0. 0. 0. 0. 0. 1. 1. 0.]\n",
      "[0. 1. 1. 1. 0. 0. 0. 0. 1. 1. 1. 0.]\n",
      "[0. 1. 0. 1. 1. 0. 0. 1. 1. 0. 1. 0.]\n",
      "[0. 0. 0. 1. 1. 1. 1. 1. 1. 0. 0. 0.]\n",
      "[0. 0. 1. 1. 0. 0. 0. 0. 1. 1. 0. 0.]\n"
     ]
    }
   ],
   "source": [
    "no_of_states = 8\n",
    "\n",
    "rows = no_of_states\n",
    "cols = len(block)\n",
    "\n",
    "block = n.array([0.0,0.0,0.0,0.0,0.0,1.0,1.0,0.0,0.0,0.0,0.0,0.0])\n",
    "\n",
    "\n",
    "for j in range(rows):\n",
    "    first = block[0]\n",
    "    last = block[len(block)-1]\n",
    "    next_state = n.zeros(n.shape(block))\n",
    "\n",
    "    next_state[0] = first\n",
    "    for i in c:\n",
    "        left = block[i-1]\n",
    "        right = block[i+1]\n",
    "        if right == left:\n",
    "            next_state[i] = 0\n",
    "        else:\n",
    "            next_state[i] = 1\n",
    "        \n",
    "    next_state[len(block)-1] = last\n",
    "\n",
    "    print(next_state)\n",
    "\n",
    "    block = next_state\n",
    "    "
   ]
  },
  {
   "cell_type": "markdown",
   "metadata": {},
   "source": [
    "## Plotting the states"
   ]
  },
  {
   "cell_type": "code",
   "execution_count": 101,
   "metadata": {},
   "outputs": [
    {
     "data": {
      "image/png": "[encoded data removed]",
      "text/plain": [
       "<Figure size 432x288 with 1 Axes>"
      ]
     },
     "metadata": {
      "needs_background": "light"
     },
     "output_type": "display_data"
    }
   ],
   "source": [
    "no_of_states = 15\n",
    "\n",
    "rows = no_of_states\n",
    "cols = len(block)\n",
    "\n",
    "z = n.zeros((rows, cols))\n",
    "\n",
    "block = n.array([0.0,0.0,0.0,0.0,0.0,1.0,1.0,0.0,0.0,0.0,0.0,0.0])\n",
    "first_state = block\n",
    "\n",
    "\n",
    "N = 1 # magnitude\n",
    "for j in range(rows):\n",
    "    first = block[0]\n",
    "    last = block[len(block)-1]\n",
    "    next_state = n.zeros(n.shape(block))\n",
    "\n",
    "    next_state[0] = first\n",
    "    for i in c:\n",
    "        left = block[i-1]\n",
    "        right = block[i+1]\n",
    "        if right == left:\n",
    "            next_state[i] = 0\n",
    "        else:\n",
    "            next_state[i] = 1\n",
    "        \n",
    "    next_state[len(block)-1] = last\n",
    "\n",
    "    block = next_state\n",
    "    z[j, :] = next_state\n",
    "    \n",
    "z = n.vstack((first_state, z))\n",
    "# print(z)\n",
    "\n",
    "rows, cols = n.shape(z)\n",
    "\n",
    "for i in range(rows):\n",
    "    block = z[i, :]\n",
    "    for j in range(len(block)):\n",
    "        if block[j] == 1:\n",
    "            col = 'white'\n",
    "        if block[j] == 0:\n",
    "            col = 'black'\n",
    "        rectangle = plt.Rectangle((N*j, N*i), N, N, fc = col, ec='brown')\n",
    "        plt.gca().add_patch(rectangle)\n",
    "\n",
    "plt.axis('scaled')\n",
    "plt.axis('off')\n",
    "plt.show()"
   ]
  }
 ],
 "metadata": {
  "kernelspec": {
   "display_name": "Python 3",
   "language": "python",
   "name": "python3"
  },
  "language_info": {
   "codemirror_mode": {
    "name": "ipython",
    "version": 3
   },
   "file_extension": ".py",
   "mimetype": "text/x-python",
   "name": "python",
   "nbconvert_exporter": "python",
   "pygments_lexer": "ipython3",
   "version": "3.7.6"
  }
 },
 "nbformat": 4,
 "nbformat_minor": 4
}
